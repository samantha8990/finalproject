{
  "nbformat": 4,
  "nbformat_minor": 0,
  "metadata": {
    "colab": {
      "name": "Untitled1.ipynb",
      "provenance": [],
      "authorship_tag": "ABX9TyNLeyhjJKmOmmIgigfP8gbm",
      "include_colab_link": true
    },
    "kernelspec": {
      "name": "python3",
      "display_name": "Python 3"
    },
    "language_info": {
      "name": "python"
    }
  },
  "cells": [
    {
      "cell_type": "markdown",
      "metadata": {
        "id": "view-in-github",
        "colab_type": "text"
      },
      "source": [
        "<a href=\"https://colab.research.google.com/github/samantha8990/finalproject/blob/main/Data_CleanUP.ipynb\" target=\"_parent\"><img src=\"https://colab.research.google.com/assets/colab-badge.svg\" alt=\"Open In Colab\"/></a>"
      ]
    },
    {
      "cell_type": "code",
      "metadata": {
        "colab": {
          "base_uri": "https://localhost:8080/"
        },
        "id": "7pkHa0kfCh9x",
        "outputId": "3d9bd37e-9cfd-4c30-c3b7-f3832e7d4571"
      },
      "source": [
        "!apt-get install openjdk-8-jdk-headless -qq > /dev/null\n",
        "import os\n",
        "os.environ[\"JAVA_HOME\"] = \"/usr/lib/jvm/java-8-openjdk-amd64\"\n",
        "!update-alternatives --set java /usr/lib/jvm/java-8-openjdk-amd64/jre/bin/java\n",
        "\n",
        "!pip install pyspark"
      ],
      "execution_count": 1,
      "outputs": [
        {
          "output_type": "stream",
          "text": [
            "update-alternatives: using /usr/lib/jvm/java-8-openjdk-amd64/jre/bin/java to provide /usr/bin/java (java) in manual mode\n",
            "Collecting pyspark\n",
            "  Downloading pyspark-3.1.2.tar.gz (212.4 MB)\n",
            "\u001b[K     |████████████████████████████████| 212.4 MB 68 kB/s \n",
            "\u001b[?25hCollecting py4j==0.10.9\n",
            "  Downloading py4j-0.10.9-py2.py3-none-any.whl (198 kB)\n",
            "\u001b[K     |████████████████████████████████| 198 kB 53.7 MB/s \n",
            "\u001b[?25hBuilding wheels for collected packages: pyspark\n",
            "  Building wheel for pyspark (setup.py) ... \u001b[?25l\u001b[?25hdone\n",
            "  Created wheel for pyspark: filename=pyspark-3.1.2-py2.py3-none-any.whl size=212880768 sha256=fb719f4fd0d460a6ad7725a1023e2b57e9278d085adef895f2334d2bfe6a8a9c\n",
            "  Stored in directory: /root/.cache/pip/wheels/a5/0a/c1/9561f6fecb759579a7d863dcd846daaa95f598744e71b02c77\n",
            "Successfully built pyspark\n",
            "Installing collected packages: py4j, pyspark\n",
            "Successfully installed py4j-0.10.9 pyspark-3.1.2\n"
          ],
          "name": "stdout"
        }
      ]
    },
    {
      "cell_type": "code",
      "metadata": {
        "id": "l4he0GOqDRug"
      },
      "source": [
        "# Start Spark session\n",
        "from pyspark.sql import SparkSession\n",
        "spark = SparkSession.builder.appName(\"sparkDates\").getOrCreate()"
      ],
      "execution_count": 2,
      "outputs": []
    },
    {
      "cell_type": "code",
      "metadata": {
        "colab": {
          "base_uri": "https://localhost:8080/"
        },
        "id": "8OCLwLIVDUow",
        "outputId": "b0744044-4f8f-4bcc-e964-1ef294f2eef5"
      },
      "source": [
        "# Load in data\n",
        "from pyspark import SparkFiles\n",
        "url =\"https://murderanalytics.s3.us-west-1.amazonaws.com/murderdata.csv\"\n",
        "spark.sparkContext.addFile(url)\n",
        "df = spark.read.csv(SparkFiles.get(\"murderdata.csv\"), sep=\",\", header=True, inferSchema=True)\n",
        "df.show()"
      ],
      "execution_count": 3,
      "outputs": [
        {
          "output_type": "stream",
          "text": [
            "+----------------+-------------+-------+------+---------+----------------+------+------+----+---------+--------+--------+----------+--------------------+--------------------+------+------+--------------------+--------------------+------+-------+--------------------+--------------------+--------------------+--------------------+--------------------+--------------------+--------+--------+--------+-------------+\n",
            "|              ID|     CNTYFIPS|    Ori| State|   Agency|        Agentype|Source|Solved|Year|StateName|   Month|Incident|ActionType|            Homicide|           Situation|VicAge|VicSex|             VicRace|           VicEthnic|OffAge| OffSex|             OffRace|           OffEthnic|              Weapon|        Relationship|        Circumstance|           Subcircum|VicCount|OffCount|FileDate|          MSA|\n",
            "+----------------+-------------+-------+------+---------+----------------+------+------+----+---------+--------+--------+----------+--------------------+--------------------+------+------+--------------------+--------------------+------+-------+--------------------+--------------------+--------------------+--------------------+--------------------+--------------------+--------+--------+--------+-------------+\n",
            "|201601001AK00101|Anchorage, AK|AK00101|Alaska|Anchorage|Municipal police|   FBI|   Yes|2016|     null| January|       1|Adjustment|Murder and non-ne...|Multiple victims/...|    40|Female|               White|Unknown or not re...|    15|   Male|               White|Unknown or not re...|Firearm, type not...|              Sister|Circumstances und...|                null|       1|       0|   82416|Anchorage, AK|\n",
            "|201601001AK00101|Anchorage, AK|AK00101|Alaska|Anchorage|Municipal police|   FBI|   Yes|2016|     null| January|       1|Adjustment|Murder and non-ne...|Multiple victims/...|    18|Female|               White|Unknown or not re...|    15|   Male|               White|Unknown or not re...|Firearm, type not...|              Sister|Circumstances und...|                null|       1|       0|   82416|Anchorage, AK|\n",
            "|201601002AK00101|Anchorage, AK|AK00101|Alaska|Anchorage|Municipal police|   FBI|   Yes|2016|     null| January|       2|Adjustment|Murder and non-ne...|Single victim/mul...|    49|  Male|American Indian o...|Unknown or not re...|    34|   Male|               White|Unknown or not re...|Firearm, type not...|            Stranger|Felon killed by p...|Felon attacked po...|       0|       1|   82416|Anchorage, AK|\n",
            "|201601003AK00101|Anchorage, AK|AK00101|Alaska|Anchorage|Municipal police|   FBI|   Yes|2016|     null| January|       3|Adjustment|Murder and non-ne...|Single victim/sin...|    32|Female|American Indian o...|Unknown or not re...|    33|   Male|American Indian o...|Unknown or not re...|Other or type unk...|                Wife|Circumstances und...|                null|       0|       0|   82416|Anchorage, AK|\n",
            "|201601004AK00101|Anchorage, AK|AK00101|Alaska|Anchorage|Municipal police|   FBI|    No|2016|     null| January|       4|Adjustment|Murder and non-ne...|Multiple victims/...|    20|  Male|               Black|Unknown or not re...|   999|Unknown|             Unknown|Unknown or not re...|Firearm, type not...|Relationship not ...|Circumstances und...|                null|       1|       0|   82416|Anchorage, AK|\n",
            "|201601004AK00101|Anchorage, AK|AK00101|Alaska|Anchorage|Municipal police|   FBI|    No|2016|     null| January|       4|Adjustment|Murder and non-ne...|Multiple victims/...|    19|Female|American Indian o...|Unknown or not re...|   999|Unknown|             Unknown|Unknown or not re...|Firearm, type not...|Relationship not ...|Circumstances und...|                null|       1|       0|   82416|Anchorage, AK|\n",
            "|201601005AK00101|Anchorage, AK|AK00101|Alaska|Anchorage|Municipal police|   FBI|   Yes|2016|     null| January|       5|Adjustment|Manslaughter by n...|Single victim/sin...|     2|  Male|American Indian o...|Unknown or not re...|    21| Female|American Indian o...|Unknown or not re...|Handgun - pistol,...|                 Son|Children playing ...|                null|       0|       0|   82416|Anchorage, AK|\n",
            "|201602001AK00101|Anchorage, AK|AK00101|Alaska|Anchorage|Municipal police|   FBI|   Yes|2016|     null|February|       1|Adjustment|Murder and non-ne...|Single victim/sin...|    30|  Male|               Asian|Unknown or not re...|    17|   Male|               White|Unknown or not re...|Firearm, type not...|            Stranger|             Robbery|                null|       0|       0|   71216|Anchorage, AK|\n",
            "|201603001AK00101|Anchorage, AK|AK00101|Alaska|Anchorage|Municipal police|   FBI|    No|2016|     null|   March|       1|Adjustment|Murder and non-ne...|Single victim/unk...|    24|  Male|               White|Unknown or not re...|   999|Unknown|             Unknown|Unknown or not re...|Firearm, type not...|Relationship not ...|Circumstances und...|                null|       0|       0|   82416|Anchorage, AK|\n",
            "|201603002AK00101|Anchorage, AK|AK00101|Alaska|Anchorage|Municipal police|   FBI|   Yes|2016|     null|   March|       2|Adjustment|Murder and non-ne...|Single victim/sin...|    30|  Male|               Asian|Unknown or not re...|    46|   Male|               White|Unknown or not re...|Firearm, type not...|              Friend|Felon killed by p...|Felon attacked a ...|       0|       0|   82416|Anchorage, AK|\n",
            "|201605001AK00101|Anchorage, AK|AK00101|Alaska|Anchorage|Municipal police|   FBI|   Yes|2016|     null|     May|       1|Adjustment|Murder and non-ne...|Single victim/sin...|    19|  Male|               Black|Unknown or not re...|    23|   Male|               White|Unknown or not re...|Firearm, type not...|            Stranger|     Other arguments|                null|       0|       0|   82316|Anchorage, AK|\n",
            "|201605002AK00101|Anchorage, AK|AK00101|Alaska|Anchorage|Municipal police|   FBI|   Yes|2016|     null|     May|       2|Adjustment|Manslaughter by n...|Single victim/sin...|    48|Female|               White|Unknown or not re...|    37|   Male|               White|Unknown or not re...|Strangulation - h...|          Girlfriend|All other manslau...|                null|       0|       0|   82316|Anchorage, AK|\n",
            "|201606001AK00101|Anchorage, AK|AK00101|Alaska|Anchorage|Municipal police|   FBI|   Yes|2016|     null|    June|       1|Adjustment|Murder and non-ne...|Single victim/sin...|    30|Female|American Indian o...|Unknown or not re...|    34|   Male|               White|Unknown or not re...|Firearm, type not...|        Acquaintance|               Other|                null|       0|       0|  110716|Anchorage, AK|\n",
            "|201607001AK00101|Anchorage, AK|AK00101|Alaska|Anchorage|Municipal police|   FBI|   Yes|2016|     null|    July|       1|Adjustment|Murder and non-ne...|Single victim/sin...|    49|Female|               Asian|Unknown or not re...|    45|   Male|               Asian|Unknown or not re...|Firearm, type not...|                Wife|               Other|                null|       0|       0|  112216|Anchorage, AK|\n",
            "|201607002AK00101|Anchorage, AK|AK00101|Alaska|Anchorage|Municipal police|   FBI|    No|2016|     null|    July|       2|Adjustment|Murder and non-ne...|Multiple victims/...|    20|Female|               White|Unknown or not re...|   999|Unknown|             Unknown|Unknown or not re...|Firearm, type not...|Relationship not ...|Circumstances und...|                null|       1|       0|  112216|Anchorage, AK|\n",
            "|201607002AK00101|Anchorage, AK|AK00101|Alaska|Anchorage|Municipal police|   FBI|    No|2016|     null|    July|       2|Adjustment|Murder and non-ne...|Multiple victims/...|    41|  Male|               White|Unknown or not re...|   999|Unknown|             Unknown|Unknown or not re...|Firearm, type not...|Relationship not ...|Circumstances und...|                null|       1|       0|  112216|Anchorage, AK|\n",
            "|201607003AK00101|Anchorage, AK|AK00101|Alaska|Anchorage|Municipal police|   FBI|   Yes|2016|     null|    July|       3|Adjustment|Murder and non-ne...|Single victim/sin...|    30|  Male|               White|Unknown or not re...|    32|   Male|               Black|Unknown or not re...|Firearm, type not...|        Acquaintance|               Other|                null|       0|       0|  112216|Anchorage, AK|\n",
            "|201607004AK00101|Anchorage, AK|AK00101|Alaska|Anchorage|Municipal police|   FBI|   Yes|2016|     null|    July|       4|Adjustment|Murder and non-ne...|Single victim/mul...|    24|  Male|               White|Unknown or not re...|    37|   Male|               White|Unknown or not re...|Firearm, type not...|            Stranger|Felon killed by p...|Felon attacked po...|       0|       1|  112216|Anchorage, AK|\n",
            "|201607005AK00101|Anchorage, AK|AK00101|Alaska|Anchorage|Municipal police|   FBI|   Yes|2016|     null|    July|       5|Adjustment|Murder and non-ne...|Single victim/sin...|     0|Female|American Indian o...|Unknown or not re...|    22| Female|American Indian o...|Unknown or not re...|Other or type unk...|            Daughter|               Other|                null|       0|       0|  112216|Anchorage, AK|\n",
            "|201607006AK00101|Anchorage, AK|AK00101|Alaska|Anchorage|Municipal police|   FBI|   Yes|2016|     null|    July|       6|Adjustment|Murder and non-ne...|Single victim/sin...|    33|Female|American Indian o...|Unknown or not re...|    33|   Male|               White|Unknown or not re...|Knife or cutting ...|             Ex-wife|               Other|                null|       0|       0|  112216|Anchorage, AK|\n",
            "+----------------+-------------+-------+------+---------+----------------+------+------+----+---------+--------+--------+----------+--------------------+--------------------+------+------+--------------------+--------------------+------+-------+--------------------+--------------------+--------------------+--------------------+--------------------+--------------------+--------+--------+--------+-------------+\n",
            "only showing top 20 rows\n",
            "\n"
          ],
          "name": "stdout"
        }
      ]
    },
    {
      "cell_type": "code",
      "metadata": {
        "colab": {
          "base_uri": "https://localhost:8080/"
        },
        "id": "rFXq4tb1EJcY",
        "outputId": "2768edcf-9c64-405c-b74d-489580301674"
      },
      "source": [
        "# Show schema to confirm date type\n",
        "df.printSchema()"
      ],
      "execution_count": 4,
      "outputs": [
        {
          "output_type": "stream",
          "text": [
            "root\n",
            " |-- ID: string (nullable = true)\n",
            " |-- CNTYFIPS: string (nullable = true)\n",
            " |-- Ori: string (nullable = true)\n",
            " |-- State: string (nullable = true)\n",
            " |-- Agency: string (nullable = true)\n",
            " |-- Agentype: string (nullable = true)\n",
            " |-- Source: string (nullable = true)\n",
            " |-- Solved: string (nullable = true)\n",
            " |-- Year: integer (nullable = true)\n",
            " |-- StateName: string (nullable = true)\n",
            " |-- Month: string (nullable = true)\n",
            " |-- Incident: integer (nullable = true)\n",
            " |-- ActionType: string (nullable = true)\n",
            " |-- Homicide: string (nullable = true)\n",
            " |-- Situation: string (nullable = true)\n",
            " |-- VicAge: integer (nullable = true)\n",
            " |-- VicSex: string (nullable = true)\n",
            " |-- VicRace: string (nullable = true)\n",
            " |-- VicEthnic: string (nullable = true)\n",
            " |-- OffAge: integer (nullable = true)\n",
            " |-- OffSex: string (nullable = true)\n",
            " |-- OffRace: string (nullable = true)\n",
            " |-- OffEthnic: string (nullable = true)\n",
            " |-- Weapon: string (nullable = true)\n",
            " |-- Relationship: string (nullable = true)\n",
            " |-- Circumstance: string (nullable = true)\n",
            " |-- Subcircum: string (nullable = true)\n",
            " |-- VicCount: integer (nullable = true)\n",
            " |-- OffCount: integer (nullable = true)\n",
            " |-- FileDate: integer (nullable = true)\n",
            " |-- MSA: string (nullable = true)\n",
            "\n"
          ],
          "name": "stdout"
        }
      ]
    },
    {
      "cell_type": "code",
      "metadata": {
        "colab": {
          "base_uri": "https://localhost:8080/"
        },
        "id": "3u2uc_g3Eb6t",
        "outputId": "afeeb47d-5b19-40a4-c48a-9836a900f224"
      },
      "source": [
        "#Select only the columns we want to keep\n",
        "Clean_df = df.select([\"CNTYFIPS\", \"Solved\",\"Year\", \"Month\", \"Homicide\", \"VicAge\", \"VicSex\", \"OffAge\", \"OffSex\", \"Weapon\", \"Relationship\", \"Circumstance\",\"Situation\" ])\n",
        "Clean_df.show()"
      ],
      "execution_count": 5,
      "outputs": [
        {
          "output_type": "stream",
          "text": [
            "+-------------+------+----+--------+--------------------+------+------+------+-------+--------------------+--------------------+--------------------+--------------------+\n",
            "|     CNTYFIPS|Solved|Year|   Month|            Homicide|VicAge|VicSex|OffAge| OffSex|              Weapon|        Relationship|        Circumstance|           Situation|\n",
            "+-------------+------+----+--------+--------------------+------+------+------+-------+--------------------+--------------------+--------------------+--------------------+\n",
            "|Anchorage, AK|   Yes|2016| January|Murder and non-ne...|    40|Female|    15|   Male|Firearm, type not...|              Sister|Circumstances und...|Multiple victims/...|\n",
            "|Anchorage, AK|   Yes|2016| January|Murder and non-ne...|    18|Female|    15|   Male|Firearm, type not...|              Sister|Circumstances und...|Multiple victims/...|\n",
            "|Anchorage, AK|   Yes|2016| January|Murder and non-ne...|    49|  Male|    34|   Male|Firearm, type not...|            Stranger|Felon killed by p...|Single victim/mul...|\n",
            "|Anchorage, AK|   Yes|2016| January|Murder and non-ne...|    32|Female|    33|   Male|Other or type unk...|                Wife|Circumstances und...|Single victim/sin...|\n",
            "|Anchorage, AK|    No|2016| January|Murder and non-ne...|    20|  Male|   999|Unknown|Firearm, type not...|Relationship not ...|Circumstances und...|Multiple victims/...|\n",
            "|Anchorage, AK|    No|2016| January|Murder and non-ne...|    19|Female|   999|Unknown|Firearm, type not...|Relationship not ...|Circumstances und...|Multiple victims/...|\n",
            "|Anchorage, AK|   Yes|2016| January|Manslaughter by n...|     2|  Male|    21| Female|Handgun - pistol,...|                 Son|Children playing ...|Single victim/sin...|\n",
            "|Anchorage, AK|   Yes|2016|February|Murder and non-ne...|    30|  Male|    17|   Male|Firearm, type not...|            Stranger|             Robbery|Single victim/sin...|\n",
            "|Anchorage, AK|    No|2016|   March|Murder and non-ne...|    24|  Male|   999|Unknown|Firearm, type not...|Relationship not ...|Circumstances und...|Single victim/unk...|\n",
            "|Anchorage, AK|   Yes|2016|   March|Murder and non-ne...|    30|  Male|    46|   Male|Firearm, type not...|              Friend|Felon killed by p...|Single victim/sin...|\n",
            "|Anchorage, AK|   Yes|2016|     May|Murder and non-ne...|    19|  Male|    23|   Male|Firearm, type not...|            Stranger|     Other arguments|Single victim/sin...|\n",
            "|Anchorage, AK|   Yes|2016|     May|Manslaughter by n...|    48|Female|    37|   Male|Strangulation - h...|          Girlfriend|All other manslau...|Single victim/sin...|\n",
            "|Anchorage, AK|   Yes|2016|    June|Murder and non-ne...|    30|Female|    34|   Male|Firearm, type not...|        Acquaintance|               Other|Single victim/sin...|\n",
            "|Anchorage, AK|   Yes|2016|    July|Murder and non-ne...|    49|Female|    45|   Male|Firearm, type not...|                Wife|               Other|Single victim/sin...|\n",
            "|Anchorage, AK|    No|2016|    July|Murder and non-ne...|    20|Female|   999|Unknown|Firearm, type not...|Relationship not ...|Circumstances und...|Multiple victims/...|\n",
            "|Anchorage, AK|    No|2016|    July|Murder and non-ne...|    41|  Male|   999|Unknown|Firearm, type not...|Relationship not ...|Circumstances und...|Multiple victims/...|\n",
            "|Anchorage, AK|   Yes|2016|    July|Murder and non-ne...|    30|  Male|    32|   Male|Firearm, type not...|        Acquaintance|               Other|Single victim/sin...|\n",
            "|Anchorage, AK|   Yes|2016|    July|Murder and non-ne...|    24|  Male|    37|   Male|Firearm, type not...|            Stranger|Felon killed by p...|Single victim/mul...|\n",
            "|Anchorage, AK|   Yes|2016|    July|Murder and non-ne...|     0|Female|    22| Female|Other or type unk...|            Daughter|               Other|Single victim/sin...|\n",
            "|Anchorage, AK|   Yes|2016|    July|Murder and non-ne...|    33|Female|    33|   Male|Knife or cutting ...|             Ex-wife|               Other|Single victim/sin...|\n",
            "+-------------+------+----+--------+--------------------+------+------+------+-------+--------------------+--------------------+--------------------+--------------------+\n",
            "only showing top 20 rows\n",
            "\n"
          ],
          "name": "stdout"
        }
      ]
    },
    {
      "cell_type": "code",
      "metadata": {
        "id": "qq6vI1j_NBAE"
      },
      "source": [
        " #Convert new Dataframe to CSV\n",
        " import pandas as pd\n",
        "\n",
        "Clean_df.toPandas().to_csv('CleanData.csv')\n"
      ],
      "execution_count": 17,
      "outputs": []
    },
    {
      "cell_type": "code",
      "metadata": {
        "colab": {
          "base_uri": "https://localhost:8080/",
          "height": 17
        },
        "id": "VsU2BqlJNBlH",
        "outputId": "587b6bc9-9ab9-46ab-84e7-075f130d9436"
      },
      "source": [
        "#Download and save CSV so it can be placed in AWS S3 bucket for further analysis\n",
        "from google.colab import files\n",
        "files.download(\"CleanData.csv\")"
      ],
      "execution_count": 18,
      "outputs": [
        {
          "output_type": "display_data",
          "data": {
            "application/javascript": [
              "\n",
              "    async function download(id, filename, size) {\n",
              "      if (!google.colab.kernel.accessAllowed) {\n",
              "        return;\n",
              "      }\n",
              "      const div = document.createElement('div');\n",
              "      const label = document.createElement('label');\n",
              "      label.textContent = `Downloading \"${filename}\": `;\n",
              "      div.appendChild(label);\n",
              "      const progress = document.createElement('progress');\n",
              "      progress.max = size;\n",
              "      div.appendChild(progress);\n",
              "      document.body.appendChild(div);\n",
              "\n",
              "      const buffers = [];\n",
              "      let downloaded = 0;\n",
              "\n",
              "      const channel = await google.colab.kernel.comms.open(id);\n",
              "      // Send a message to notify the kernel that we're ready.\n",
              "      channel.send({})\n",
              "\n",
              "      for await (const message of channel.messages) {\n",
              "        // Send a message to notify the kernel that we're ready.\n",
              "        channel.send({})\n",
              "        if (message.buffers) {\n",
              "          for (const buffer of message.buffers) {\n",
              "            buffers.push(buffer);\n",
              "            downloaded += buffer.byteLength;\n",
              "            progress.value = downloaded;\n",
              "          }\n",
              "        }\n",
              "      }\n",
              "      const blob = new Blob(buffers, {type: 'application/binary'});\n",
              "      const a = document.createElement('a');\n",
              "      a.href = window.URL.createObjectURL(blob);\n",
              "      a.download = filename;\n",
              "      div.appendChild(a);\n",
              "      a.click();\n",
              "      div.remove();\n",
              "    }\n",
              "  "
            ],
            "text/plain": [
              "<IPython.core.display.Javascript object>"
            ]
          },
          "metadata": {}
        },
        {
          "output_type": "display_data",
          "data": {
            "application/javascript": [
              "download(\"download_1dd8f8b6-794f-4aab-aad1-d546a072fb5c\", \"CleanData.csv\", 13474915)"
            ],
            "text/plain": [
              "<IPython.core.display.Javascript object>"
            ]
          },
          "metadata": {}
        }
      ]
    }
  ]
}